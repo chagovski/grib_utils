{
 "cells": [
  {
   "cell_type": "markdown",
   "id": "499eef3b",
   "metadata": {},
   "source": [
    "# ECMWF Open Data: Total Accumulated Precipitation Forecast\n",
    "\n",
    "**Objective:** Download ECMWF precipitation forecast data in grib format and translate it into NetCDF raster format.\n",
    "\n",
    "**Author:** Adam Pasik pasikadam@gmail.com"
   ]
  },
  {
   "cell_type": "markdown",
   "id": "48f2cdf5",
   "metadata": {},
   "source": [
    "## Create the Conda Environment from environment.yml\n",
    "\n",
    "1. Open Anaconda Prompt or your terminal.\n",
    "2. Navigate to the root folder containing `environment.yml`. For example:\n",
    "   ```sh\n",
    "   cd path/to/grib_utils\n",
    "   ```\n",
    "3. Run the following command to create the environment:\n",
    "   ```sh\n",
    "   conda env create -f environment.yml\n",
    "   ```\n",
    "4. Activate the environment:\n",
    "   ```sh\n",
    "   conda activate ecmwf_forecasts\n",
    "   ```\n",
    "5. Your environment is now ready to use with all required packages installed."
   ]
  },
  {
   "cell_type": "code",
   "execution_count": null,
   "id": "77d34795",
   "metadata": {},
   "outputs": [],
   "source": [
    "import os\n",
    "from datetime import datetime\n",
    "from grib_utils import get_grib_data, grib_to_netcdf"
   ]
  },
  {
   "cell_type": "markdown",
   "id": "5a287752",
   "metadata": {},
   "source": [
    "Set the parameters for downloading the forecast. By default:\n",
    "\n",
    "- Base date and time: last midnight\n",
    "\n",
    "- Horizon: 10 days\n",
    "\n",
    "- Step: 24 hours\n",
    "\n",
    "These settings will download the most recent 10-day forecast at 1-day intervals."
   ]
  },
  {
   "cell_type": "code",
   "execution_count": 1,
   "id": "86c7c96a",
   "metadata": {},
   "outputs": [
    {
     "ename": "ErrorException",
     "evalue": "syntax: character literal contains multiple characters",
     "output_type": "error",
     "traceback": [
      "syntax: character literal contains multiple characters\n",
      "\n",
      "Stacktrace:\n",
      " [1] top-level scope\n",
      "   @ c:\\pasik\\MSF\\grib_utils\\src\\jl_notebook_cell_df34fa98e69747e1a8f8a730347b8e2f_W6sZmlsZQ==.jl:1"
     ]
    }
   ],
   "source": [
    "basedate = datetime.today().strftime('%Y%m%d') # reference time for the forecast\n",
    "basetime = 00 # format: HH (00 for midnight, 12 for noon)\n",
    "horizon = 240 # forecast maximum horizon in hours\n",
    "timestep = 24 # 0 to 144 by 3, 150 to 240 by 6"
   ]
  },
  {
   "cell_type": "markdown",
   "id": "41a13d1a",
   "metadata": {},
   "source": [
    "Define the output directory and generate a filename that includes the forecast settings for easy identification."
   ]
  },
  {
   "cell_type": "code",
   "execution_count": 2,
   "id": "dc1230cc",
   "metadata": {},
   "outputs": [
    {
     "ename": "LoadError",
     "evalue": "LoadError: UndefVarError: `@f_str` not defined\nin expression starting at c:\\pasik\\MSF\\grib_utils\\src\\jl_notebook_cell_df34fa98e69747e1a8f8a730347b8e2f_X11sZmlsZQ==.jl:2",
     "output_type": "error",
     "traceback": [
      "LoadError: UndefVarError: `@f_str` not defined\n",
      "in expression starting at c:\\pasik\\MSF\\grib_utils\\src\\jl_notebook_cell_df34fa98e69747e1a8f8a730347b8e2f_X11sZmlsZQ==.jl:2\n"
     ]
    }
   ],
   "source": [
    "output_dir = \"path/to/ecmwf_forecasts/\"\n",
    "filename = f\"ECMWF_total_accumulated_precipitation_forecast_base{basedate}T{basetime:02d}Z_h{horizon}_step{timestep}.grb\"\n",
    "\n",
    "output_path = os.path.join(output_dir, filename)"
   ]
  },
  {
   "cell_type": "markdown",
   "id": "e50f9ffb",
   "metadata": {},
   "source": [
    "Download and convert the forecast data to .NetCDF raster format"
   ]
  },
  {
   "cell_type": "code",
   "execution_count": null,
   "id": "4e90daa9",
   "metadata": {},
   "outputs": [],
   "source": [
    "# Download the ECMWF precipitation forecast in GRIB file format using ecmwf.opendata client\n",
    "get_grib_data(\n",
    "    client_name=\"ecmwf\",\n",
    "    parameters=[\"tp\"],\n",
    "    outpath=output_path,\n",
    "    date=basedate,  # format: YYYYMMDD\n",
    "    time=basetime, \n",
    "    step=list(range(timestep, horizon + 1, timestep)), # 0 to 144 by 3, 150 to 240 by 6\n",
    "    stream=\"oper\",\n",
    "    type_=\"fc\",\n",
    "    levtype=\"sfc\"\n",
    ")\n",
    "\n",
    "# Convert GRIB to NetCDF and choose whether each time-step of the forecast should be saved in a separate file\n",
    "grib_to_netcdf(output_path, separate_files=False)"
   ]
  }
 ],
 "metadata": {
  "kernelspec": {
   "display_name": "Julia 1.9.3",
   "language": "julia",
   "name": "julia-1.9"
  },
  "language_info": {
   "file_extension": ".jl",
   "mimetype": "application/julia",
   "name": "julia",
   "version": "1.9.3"
  }
 },
 "nbformat": 4,
 "nbformat_minor": 5
}
