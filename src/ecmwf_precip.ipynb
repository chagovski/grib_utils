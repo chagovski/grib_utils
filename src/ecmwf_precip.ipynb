{
 "cells": [
  {
   "cell_type": "markdown",
   "id": "c8a37dc9",
   "metadata": {},
   "source": [
    "# ECMWF Open Data: Total Accumulated Precipitation Forecast\n",
    "\n",
    "**Objective:** Download ECMWF precipitation forecast data in grib format and translate it into raster format (.GTiff)\n",
    "\n",
    "**Author:** Adam Pasik pasikadam@gmail.com"
   ]
  },
  {
   "cell_type": "code",
   "execution_count": null,
   "id": "8bcf5914",
   "metadata": {},
   "outputs": [],
   "source": [
    "import os\n",
    "from datetime import datetime\n",
    "from grib_utils import get_grib_data, grib_to_raster, store_metadata"
   ]
  },
  {
   "cell_type": "markdown",
   "id": "1a180fda",
   "metadata": {},
   "source": [
    "Set the parameters for downloading the forecast. By default:\n",
    "\n",
    "- Base date and time: last midnight\n",
    "\n",
    "- Horizon: 10 days\n",
    "\n",
    "- Step: 24 hours\n",
    "\n",
    "These settings will download the most recent 10-day forecast at 1-day intervals."
   ]
  },
  {
   "cell_type": "code",
   "execution_count": null,
   "id": "a10ab03f",
   "metadata": {},
   "outputs": [],
   "source": [
    "basedate = datetime.today().strftime('%Y%m%d') # reference time for the forecast\n",
    "basetime = 00 # format: HH (00 for midnight, 12 for noon)\n",
    "horizon = 240 # forecast maximum horizon in hours\n",
    "timestep = 24 # 0 to 144 by 3, 150 to 240 by 6"
   ]
  },
  {
   "cell_type": "markdown",
   "id": "3c26fe82",
   "metadata": {},
   "source": [
    "Define the output directory and generate a filename that includes the forecast settings for easy identification.\n",
    "\n",
    "Define path for metadata .csv"
   ]
  },
  {
   "cell_type": "code",
   "execution_count": null,
   "id": "6bccb4eb",
   "metadata": {},
   "outputs": [],
   "source": [
    "output_dir = \"path/to/ecmwf_forecasts/\"\n",
    "filename = f\"ECMWF_total_accumulated_precipitation_forecast_base{basedate}T{basetime:02d}Z_h{horizon}_step{timestep}.grb\"\n",
    "\n",
    "output_path = os.path.join(output_dir, filename)\n",
    "\n",
    "metadata_path = os.path.join(output_dir, \"ecmwf_forecasts.csv\")"
   ]
  },
  {
   "cell_type": "markdown",
   "id": "d756a9f6",
   "metadata": {},
   "source": [
    "Download and convert the forecast data to .tiff raster format"
   ]
  },
  {
   "cell_type": "code",
   "execution_count": null,
   "id": "9fb04c48",
   "metadata": {},
   "outputs": [],
   "source": [
    "# Download the ECMWF precipitation forecast in GRIB file format using ecmwf.opendata client\n",
    "get_grib_data(\n",
    "    client_name=\"ecmwf\",\n",
    "    parameters=[\"tp\"],\n",
    "    outpath=output_path,\n",
    "    date=basedate,  # format: YYYYMMDD\n",
    "    time=basetime, \n",
    "    step=list(range(timestep, horizon + 1, timestep)), # 0 to 144 by 3, 150 to 240 by 6\n",
    "    stream=\"oper\",\n",
    "    type_=\"fc\",\n",
    "    levtype=\"sfc\"\n",
    ")\n",
    "\n",
    "# Convert GRIB to GeoTIFF\n",
    "grib_to_raster(output_path)"
   ]
  },
  {
   "cell_type": "markdown",
   "id": "67ff23be",
   "metadata": {},
   "source": [
    "Store the metadata of this download"
   ]
  },
  {
   "cell_type": "code",
   "execution_count": null,
   "id": "7b85e181",
   "metadata": {},
   "outputs": [],
   "source": [
    "store_metadata(\n",
    "    raster_path=output_path.replace(\".grb\", \".tif\"),\n",
    "    csv_path=metadata_path,\n",
    "    variable=\"total_precipitation\"\n",
    ")"
   ]
  }
 ],
 "metadata": {
  "kernelspec": {
   "display_name": "Julia 1.11.3",
   "language": "julia",
   "name": "julia-1.11"
  },
  "language_info": {
   "file_extension": ".jl",
   "mimetype": "application/julia",
   "name": "julia",
   "version": "1.11.3"
  }
 },
 "nbformat": 4,
 "nbformat_minor": 5
}
