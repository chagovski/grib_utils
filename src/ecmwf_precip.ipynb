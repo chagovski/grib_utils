{
 "cells": [
  {
   "cell_type": "markdown",
   "id": "c8a37dc9",
   "metadata": {},
   "source": [
    "# ECMWF Open Data 10 Precipitation Forecast at 24 hour time steps\n",
    "\n",
    "**Objective:** Download ECMWF precipitation forecast data in grib format and translate it into raster format (.GTiff)\n",
    "\n",
    "**Author:** Adam Pasik pasikadam@gmail.com"
   ]
  },
  {
   "cell_type": "code",
   "execution_count": null,
   "id": "8bcf5914",
   "metadata": {
    "vscode": {
     "languageId": "python"
    }
   },
   "outputs": [],
   "source": [
    "import os\n",
    "from datetime import datetime\n",
    "from grib_utils import get_grib_data, grib_to_raster"
   ]
  },
  {
   "cell_type": "code",
   "execution_count": null,
   "id": "a10ab03f",
   "metadata": {},
   "outputs": [],
   "source": [
    "basedate = datetime.today().strftime('%Y%m%d') # reference time for the forecast\n",
    "basetime = 00 # format: HH (00 for midnight, 12 for noon)\n",
    "horizon = 240 # forecast maximum horizon in hours\n",
    "timestep = 24 # 0 to 144 by 3, 150 to 240 by 6\n",
    "\n",
    "output_dir = \"path/to/ecmwf_forecasts/\"\n",
    "filename = f\"ECMWF_total_accumulated_precipitation_forecast_base{basedate}T{basetime:02d}Z_h{horizon}_step{timestep}.grb\"\n",
    "\n",
    "output_path = os.path.join(output_dir, filename)"
   ]
  },
  {
   "cell_type": "code",
   "execution_count": null,
   "id": "9fb04c48",
   "metadata": {},
   "outputs": [],
   "source": [
    "# Download the ECMWF precipitation forecast in GRIB file format using ecmwf.opendata client\n",
    "get_grib_data(\n",
    "    client_name=\"ecmwf\",\n",
    "    parameters=[\"tp\"],\n",
    "    outpath=output_path,\n",
    "    date=basedate,  # format: YYYYMMDD\n",
    "    time=basetime, \n",
    "    step=list(range(timestep, horizon + 1, timestep)), # 0 to 144 by 3, 150 to 240 by 6\n",
    "    stream=\"oper\",\n",
    "    type_=\"fc\",\n",
    "    levtype=\"sfc\"\n",
    ")\n",
    "\n",
    "# Convert GRIB to GeoTIFF\n",
    "grib_to_raster(output_path)"
   ]
  }
 ],
 "metadata": {
  "kernelspec": {
   "display_name": "Julia 1.11.3",
   "language": "julia",
   "name": "julia-1.11"
  },
  "language_info": {
   "file_extension": ".jl",
   "mimetype": "application/julia",
   "name": "julia",
   "version": "1.11.3"
  }
 },
 "nbformat": 4,
 "nbformat_minor": 5
}
